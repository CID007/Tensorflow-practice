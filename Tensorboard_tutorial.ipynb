{
  "cells": [
    {
      "cell_type": "markdown",
      "metadata": {
        "id": "view-in-github",
        "colab_type": "text"
      },
      "source": [
        "<a href=\"https://colab.research.google.com/github/Chirag314/Tensorflow-practice/blob/main/Tensorboard_tutorial.ipynb\" target=\"_parent\"><img src=\"https://colab.research.google.com/assets/colab-badge.svg\" alt=\"Open In Colab\"/></a>"
      ]
    },
    {
      "cell_type": "markdown",
      "metadata": {
        "id": "TC005_unyQp3"
      },
      "source": [
        "#Taking TensorFlow to Production"
      ]
    },
    {
      "cell_type": "code",
      "execution_count": null,
      "metadata": {
        "id": "lccQ3qp2yQp7"
      },
      "outputs": [],
      "source": [
        "# Import Python packages\n",
        "import os\n",
        "import numpy as np \n",
        "import pandas as pd \n",
        "import matplotlib.pyplot as plt\n",
        "import seaborn as sns\n",
        "%matplotlib inline\n",
        "\n",
        "from xgboost import XGBRegressor\n",
        "from xgboost import plot_tree\n",
        "from xgboost import plot_importance\n",
        "from sklearn.preprocessing import MinMaxScaler\n",
        "from sklearn.feature_selection import SelectFromModel\n",
        "from sklearn.ensemble import GradientBoostingRegressor\n",
        "from sklearn.model_selection import GridSearchCV\n",
        "from sklearn.model_selection import train_test_split, KFold, cross_val_score,TimeSeriesSplit\n",
        "from sklearn.model_selection import StratifiedKFold\n",
        "from sklearn.tree import DecisionTreeRegressor\n",
        "from sklearn.metrics import mean_squared_error, r2_score, mean_absolute_error\n",
        "from sklearn.preprocessing import MinMaxScaler\n",
        "import itertools\n",
        "import tensorflow as tf\n",
        "import numpy as np\n",
        "import datetime\n",
        "from sklearn import metrics"
      ]
    },
    {
      "cell_type": "code",
      "execution_count": null,
      "metadata": {
        "colab": {
          "base_uri": "https://localhost:8080/"
        },
        "id": "0h5HYvHGLvww",
        "outputId": "38b23079-d83d-44cc-eab9-a92540ecc804"
      },
      "outputs": [
        {
          "name": "stdout",
          "output_type": "stream",
          "text": [
            "Looking in indexes: https://pypi.org/simple, https://us-python.pkg.dev/colab-wheels/public/simple/\n",
            "Collecting tensorboardcolab\n",
            "  Downloading tensorboardcolab-0.0.22.tar.gz (2.5 kB)\n",
            "Building wheels for collected packages: tensorboardcolab\n",
            "  Building wheel for tensorboardcolab (setup.py) ... \u001b[?25l\u001b[?25hdone\n",
            "  Created wheel for tensorboardcolab: filename=tensorboardcolab-0.0.22-py3-none-any.whl size=3859 sha256=96c5874a82297a50df2692080acb4d2cfde24edb4204ccb24f572de443afb0ac\n",
            "  Stored in directory: /root/.cache/pip/wheels/69/4e/4a/1c6c267395cb10edded1050df12af165d3254cfce324e80941\n",
            "Successfully built tensorboardcolab\n",
            "Installing collected packages: tensorboardcolab\n",
            "Successfully installed tensorboardcolab-0.0.22\n"
          ]
        }
      ],
      "source": [
        "!pip install tensorboardcolab "
      ]
    },
    {
      "cell_type": "markdown",
      "metadata": {
        "id": "um5tawyhyQp8"
      },
      "source": [
        "Step 3: Load the data"
      ]
    },
    {
      "cell_type": "code",
      "execution_count": null,
      "metadata": {
        "colab": {
          "base_uri": "https://localhost:8080/"
        },
        "id": "FGzvBhyN7fz8",
        "outputId": "3c296dc9-b44b-4de5-a74b-d88d36c28f44"
      },
      "outputs": [
        {
          "name": "stdout",
          "output_type": "stream",
          "text": [
            "Downloading data from https://storage.googleapis.com/tensorflow/tf-keras-datasets/mnist.npz\n",
            "11490434/11490434 [==============================] - 0s 0us/step\n"
          ]
        }
      ],
      "source": [
        "from matplotlib import image\n",
        "# We will now load MNIST data from keras\n",
        "(x_train,y_train),(x_test,y_test)=tf.keras.datasets.mnist.load_data()\n",
        "x_train=x_train.reshape(-1,28,28,1)\n",
        "x_test=x_test.reshape(-1,28,28,1)\n",
        "# Padd images by 2 pixels\n",
        "x_train=np.pad(x_train,((0,0),(2,2),(2,2),(0,0)),'constant')\n",
        "x_test=np.pad(x_test,((0,0),(2,2),(2,2),(0,0)),'constant')\n",
        "\n",
        "# Normalize \n",
        "x_train=x_train/255\n",
        "y_test=y_test/255\n",
        "\n",
        "# Set model parameters\n",
        "image_width=x_train[0].shape[0]\n",
        "image_height=x_train[0].shape[1]\n",
        "num_channels=1\n",
        "\n",
        "batch_size=100\n",
        "evaluation_size=500\n",
        "generations=300\n",
        "eval_every=5\n",
        "\n",
        "seed=98\n",
        "np.random.seed(seed)\n",
        "tf.random.set_seed(seed)\n",
        "\n",
        "#Declare the model\n",
        "input_data=tf.keras.Input(dtype=tf.float32,shape=(image_width,image_height,num_channels),name='INPUT')\n",
        "\n",
        "conv1=tf.keras.layers.Conv2D(filters=6,\n",
        "                             kernel_size=5,\n",
        "                             padding='VALID',\n",
        "                             activation='relu',\n",
        "                             name=\"C1\")(input_data)\n",
        "max_pool1=tf.keras.layers.MaxPool2D(pool_size=2,\n",
        "                                   strides=2,\n",
        "                                   padding='SAME',\n",
        "                                   name='S1')(conv1)\n",
        "conv2=tf.keras.layers.Conv2D(filters=16,\n",
        "                             kernel_size=5,\n",
        "                             strides=1,\n",
        "                             padding='VALID',\n",
        "                             activation='relu',\n",
        "                             name=\"C3\")(max_pool1)\n",
        "max_pool2=tf.keras.layers.MaxPool2D(pool_size=2,\n",
        "                                   strides=2,\n",
        "                                   padding='SAME',\n",
        "                                   name='S4')(conv2)\n",
        "flatten=tf.keras.layers.Flatten(name='FLATTEN')(max_pool2)\n",
        "fully_connected1=tf.keras.layers.Dense(units=120,\n",
        "                                       activation='relu',\n",
        "                                       name='F5')(flatten)\n",
        "\n",
        "fully_connected2=tf.keras.layers.Dense(units=84,\n",
        "                                       activation='relu',\n",
        "                                       name='F6')(fully_connected1)\n",
        "final_model_output=tf.keras.layers.Dense(units=10,\n",
        "                                       activation='relu',\n",
        "                                       name='OUTPUT')(fully_connected2)\n",
        "\n",
        "model=tf.keras.Model(inputs=input_data,outputs=final_model_output)\n"
      ]
    },
    {
      "cell_type": "code",
      "execution_count": null,
      "metadata": {
        "id": "bxkuB6F2yQp8"
      },
      "outputs": [],
      "source": [
        "# Compile the model\n",
        "model.compile(\n",
        "    optimizer='adam',\n",
        "    loss='sparse_categorical_crossentropy',\n",
        "    metrics=['accuracy']\n",
        ")"
      ]
    },
    {
      "cell_type": "code",
      "execution_count": null,
      "metadata": {
        "id": "RbC-84jC_2CM"
      },
      "outputs": [],
      "source": [
        "log_dir=\"content/logs/experiment-\" + datetime.datetime.now().strftime(\"%Y%m%d-%H%M%S\") "
      ]
    },
    {
      "cell_type": "code",
      "execution_count": null,
      "metadata": {
        "colab": {
          "base_uri": "https://localhost:8080/"
        },
        "id": "A-_lRXiYAByI",
        "outputId": "79122846-4702-4e22-ef68-94bf12546c6f"
      },
      "outputs": [
        {
          "name": "stdout",
          "output_type": "stream",
          "text": [
            "Epoch 1/5\n",
            "1875/1875 [==============================] - 56s 29ms/step - loss: 2.3985 - accuracy: 0.1086 - val_loss: 2.3190 - val_accuracy: 0.0980\n",
            "Epoch 2/5\n",
            "1875/1875 [==============================] - 50s 27ms/step - loss: 2.3026 - accuracy: 0.0987 - val_loss: 2.3190 - val_accuracy: 0.0980\n",
            "Epoch 3/5\n",
            "1875/1875 [==============================] - 48s 26ms/step - loss: 2.3026 - accuracy: 0.0987 - val_loss: 2.3190 - val_accuracy: 0.0980\n",
            "Epoch 4/5\n",
            "1875/1875 [==============================] - 44s 24ms/step - loss: 2.3026 - accuracy: 0.0987 - val_loss: 2.3190 - val_accuracy: 0.0980\n",
            "Epoch 5/5\n",
            "1875/1875 [==============================] - 49s 26ms/step - loss: 2.3026 - accuracy: 0.0987 - val_loss: 2.3190 - val_accuracy: 0.0980\n"
          ]
        },
        {
          "data": {
            "text/plain": [
              "<keras.callbacks.History at 0x7f24505ffb90>"
            ]
          },
          "execution_count": 6,
          "metadata": {},
          "output_type": "execute_result"
        }
      ],
      "source": [
        "#Next, we will instantiate a TensorBoard callback and pass it to the fit method. All logs during the training phase will be stored in this directory and can be viewed instantly in TensorBoard:\n",
        "tensorboard_callback=tf.keras.callbacks.TensorBoard(log_dir=log_dir,\n",
        "                                                    write_images=True,\n",
        "                                                    histogram_freq=1)\n",
        "\n",
        "model.fit(x_train,\n",
        "          y_train,\n",
        "          epochs=5,\n",
        "          validation_data=(x_test,y_test),\n",
        "          callbacks=[tensorboard_callback])"
      ]
    },
    {
      "cell_type": "code",
      "execution_count": null,
      "metadata": {
        "id": "a7uT7VFGKzJa"
      },
      "outputs": [],
      "source": [
        "%load_ext tensorboard"
      ]
    },
    {
      "cell_type": "code",
      "execution_count": null,
      "metadata": {
        "colab": {
          "base_uri": "https://localhost:8080/"
        },
        "id": "XpkeY3CQFzRR",
        "outputId": "86318ed5-cec9-4d4a-c0e0-21fea4fa0a6a"
      },
      "outputs": [
        {
          "metadata": {
            "tags": null
          },
          "name": "stdout",
          "output_type": "stream",
          "text": [
            "2022-10-13 16:06:27.235264: E tensorflow/stream_executor/cuda/cuda_driver.cc:271] failed call to cuInit: CUDA_ERROR_NO_DEVICE: no CUDA-capable device is detected\n",
            "\n",
            "NOTE: Using experimental fast data loading logic. To disable, pass\n",
            "    \"--load_fast=false\" and report issues on GitHub. More details:\n",
            "    https://github.com/tensorflow/tensorboard/issues/4784\n",
            "\n",
            "Serving TensorBoard on localhost; to expose to the network, use a proxy or pass --bind_all\n",
            "TensorBoard 2.9.1 at http://localhost:6006/ (Press CTRL+C to quit)\n"
          ]
        }
      ],
      "source": [
        "#start the TensorBoard application by running the following command\n",
        "!tensorboard --logdir=\".content/logs\""
      ]
    },
    {
      "cell_type": "code",
      "execution_count": null,
      "metadata": {
        "id": "cp-NWgmOHdwO"
      },
      "outputs": [],
      "source": [
        "%tensorboard --logdir=\"logs\""
      ]
    }
  ],
  "metadata": {
    "colab": {
      "provenance": [],
      "include_colab_link": true
    },
    "kernelspec": {
      "display_name": "Python 3",
      "language": "python",
      "name": "python3"
    },
    "language_info": {
      "codemirror_mode": {
        "name": "ipython",
        "version": 3
      },
      "file_extension": ".py",
      "mimetype": "text/x-python",
      "name": "python",
      "nbconvert_exporter": "python",
      "pygments_lexer": "ipython3",
      "version": "3.6.4"
    }
  },
  "nbformat": 4,
  "nbformat_minor": 0
}